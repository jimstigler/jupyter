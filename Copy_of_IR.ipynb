{
  "nbformat": 4,
  "nbformat_minor": 0,
  "metadata": {
    "colab": {
      "name": "Copy of IR.ipynb",
      "provenance": [],
      "collapsed_sections": [],
      "include_colab_link": true
    },
    "kernelspec": {
      "name": "ir",
      "display_name": "R"
    }
  },
  "cells": [
    {
      "cell_type": "markdown",
      "metadata": {
        "id": "view-in-github",
        "colab_type": "text"
      },
      "source": [
        "<a href=\"https://colab.research.google.com/github/jimstigler/jupyter/blob/master/Copy_of_IR.ipynb\" target=\"_parent\"><img src=\"https://colab.research.google.com/assets/colab-badge.svg\" alt=\"Open In Colab\"/></a>"
      ]
    },
    {
      "cell_type": "code",
      "metadata": {
        "id": "Z60PpIfIeF4Z",
        "colab_type": "code",
        "colab": {}
      },
      "source": [
        ""
      ],
      "execution_count": 0,
      "outputs": []
    },
    {
      "cell_type": "code",
      "metadata": {
        "id": "rCEtur7fajGn",
        "colab_type": "code",
        "outputId": "d9fb3ea6-ad14-4a8c-ded3-731f84f6cb3a",
        "colab": {
          "base_uri": "https://localhost:8080/",
          "height": 102
        }
      },
      "source": [
        "cat(system('python3 -c \"from google.colab import drive\\ndrive.mount()\"', intern=TRUE), sep='\\n', wait=TRUE)"
      ],
      "execution_count": 2,
      "outputs": [
        {
          "output_type": "stream",
          "text": [
            "Warning message in system(\"python3 -c \\\"from google.colab import drive\\ndrive.mount()\\\"\", :\n",
            "“running command 'python3 -c \"from google.colab import drive\n",
            "drive.mount()\"' had status 1”\n"
          ],
          "name": "stderr"
        },
        {
          "output_type": "stream",
          "text": [
            "\n",
            "TRUE\n"
          ],
          "name": "stdout"
        }
      ]
    },
    {
      "cell_type": "code",
      "metadata": {
        "id": "T6aH0TahbghZ",
        "colab_type": "code",
        "colab": {}
      },
      "source": [
        "?system"
      ],
      "execution_count": 0,
      "outputs": []
    },
    {
      "cell_type": "code",
      "metadata": {
        "id": "3o11KxDzyC0g",
        "colab_type": "code",
        "outputId": "35dc8174-9ff8-4573-9ad0-2c3656681492",
        "colab": {
          "base_uri": "https://localhost:8080/",
          "height": 476
        }
      },
      "source": [
        "install.packages(\"rgl\", repos = \"http://cran.rstudio.com/\")\n",
        "install.packages(\"ConsRank\", repos = \"http://cran.rstudio.com/\")\n",
        "library(\"ConsRank\")"
      ],
      "execution_count": 4,
      "outputs": [
        {
          "output_type": "stream",
          "text": [
            "Installing package into ‘/usr/local/lib/R/site-library’\n",
            "(as ‘lib’ is unspecified)\n",
            "\n",
            "also installing the dependencies ‘miniUI’, ‘webshot’, ‘manipulateWidget’\n",
            "\n",
            "\n",
            "Installing package into ‘/usr/local/lib/R/site-library’\n",
            "(as ‘lib’ is unspecified)\n",
            "\n",
            "also installing the dependencies ‘XML’, ‘data.table’, ‘rlist’, ‘proxy’, ‘gtools’\n",
            "\n",
            "\n",
            "Loading required package: rgl\n",
            "\n",
            "Warning message in rgl.init(initValue, onlyNULL):\n",
            "“RGL: unable to open X11 display”\n",
            "Warning message:\n",
            "“'rgl_init' failed, running with rgl.useNULL = TRUE”\n",
            "\n",
            "Attaching package: ‘ConsRank’\n",
            "\n",
            "\n",
            "The following object is masked from ‘package:base’:\n",
            "\n",
            "    labels\n",
            "\n",
            "\n"
          ],
          "name": "stderr"
        }
      ]
    },
    {
      "cell_type": "code",
      "metadata": {
        "id": "SPYGePw53fWq",
        "colab_type": "code",
        "colab": {}
      },
      "source": [
        "system(\"add-apt-repository -y ppa:marutter/rrutter\")\n",
        "system(\"add-apt-repository -y ppa:marutter/c2d4u\")\n",
        "system(\"apt-get update\")\n",
        "system(\"apt install -y r-cran-rstan\")"
      ],
      "execution_count": 0,
      "outputs": []
    },
    {
      "cell_type": "code",
      "metadata": {
        "id": "1IzjHJFxv01f",
        "colab_type": "code",
        "colab": {
          "base_uri": "https://localhost:8080/",
          "height": 170
        },
        "outputId": "19b718ba-123d-42c6-dcb4-620dcc0d3b9a"
      },
      "source": [
        "install.packages('ggmap')\n",
        "install.packages('codetools')"
      ],
      "execution_count": 6,
      "outputs": [
        {
          "output_type": "stream",
          "text": [
            "Installing package into ‘/usr/local/lib/R/site-library’\n",
            "(as ‘lib’ is unspecified)\n",
            "\n",
            "also installing the dependencies ‘RgoogleMaps’, ‘png’, ‘rjson’, ‘jpeg’, ‘bitops’\n",
            "\n",
            "\n",
            "Installing package into ‘/usr/local/lib/R/site-library’\n",
            "(as ‘lib’ is unspecified)\n",
            "\n"
          ],
          "name": "stderr"
        }
      ]
    },
    {
      "cell_type": "code",
      "metadata": {
        "id": "sdyV67dk2vGx",
        "colab_type": "code",
        "colab": {
          "base_uri": "https://localhost:8080/",
          "height": 119
        },
        "outputId": "4d1b5e24-ce35-44d7-846e-d15e254a781c"
      },
      "source": [
        "library(\"ggmap\")"
      ],
      "execution_count": 7,
      "outputs": [
        {
          "output_type": "stream",
          "text": [
            "Loading required package: ggplot2\n",
            "\n",
            "Google's Terms of Service: https://cloud.google.com/maps-platform/terms/.\n",
            "\n",
            "Please cite ggmap if you use it! See citation(\"ggmap\") for details.\n",
            "\n"
          ],
          "name": "stderr"
        }
      ]
    },
    {
      "cell_type": "code",
      "metadata": {
        "id": "qIbhtDzdwYdB",
        "colab_type": "code",
        "colab": {
          "base_uri": "https://localhost:8080/",
          "height": 170
        },
        "outputId": "c0aa8657-5d65-452a-d511-51be1894e23e"
      },
      "source": [
        "options(repr.plot.width  = 3,\n",
        "        repr.plot.height = 3)\n",
        "Sys.setenv(USE_CXX14 = 1)\n",
        "library(\"rstan\") # observe startup messages\n",
        "options(mc.cores = parallel::detectCores())\n",
        "rstan_options(auto_write = TRUE)"
      ],
      "execution_count": 8,
      "outputs": [
        {
          "output_type": "stream",
          "text": [
            "Loading required package: StanHeaders\n",
            "\n",
            "rstan (Version 2.19.2, GitRev: 2e1f913d3ca3)\n",
            "\n",
            "For execution on a local, multicore CPU with excess RAM we recommend calling\n",
            "options(mc.cores = parallel::detectCores()).\n",
            "To avoid recompilation of unchanged Stan programs, we recommend calling\n",
            "rstan_options(auto_write = TRUE)\n",
            "\n"
          ],
          "name": "stderr"
        }
      ]
    },
    {
      "cell_type": "code",
      "metadata": {
        "id": "xLlQFtlPxD5j",
        "colab_type": "code",
        "colab": {
          "base_uri": "https://localhost:8080/",
          "height": 197
        },
        "outputId": "5d525d82-97e2-4be4-e8a8-0dea3d6e7348"
      },
      "source": [
        "x <- seq(0, 2*pi, length.out=50)\n",
        "plot(x, sin(x))"
      ],
      "execution_count": 9,
      "outputs": [
        {
          "output_type": "display_data",
          "data": {
            "image/png": "[encoded data removed]",
            "text/plain": [
              "plot without title"
            ]
          },
          "metadata": {
            "tags": [],
            "image/png": {
              "width": 180,
              "height": 180
            },
            "text/plain": {
              "width": 180,
              "height": 180
            }
          }
        }
      ]
    },
    {
      "cell_type": "code",
      "metadata": {
        "id": "lxBXXzeIx6aA",
        "colab_type": "code",
        "colab": {
          "base_uri": "https://localhost:8080/",
          "height": 221
        },
        "outputId": "44dca9bf-1d65-48a3-a205-95c24e5bab7d"
      },
      "source": [
        "stanmodelcode <- \"\n",
        "data {\n",
        "    int<lower=0> N; \n",
        "    real y[N];\n",
        "}\n",
        "\n",
        "parameters {\n",
        "    real mu; \n",
        "\n",
        "}\n",
        "\n",
        "model {\n",
        "    target += normal_lpdf(mu | 0, 10);\n",
        "    target += normal_lpdf(y | mu, 1);\n",
        "}\"\n",
        "\n",
        "y <- rnorm(20)\n",
        "dat <- list(N = 20, y = y);\n",
        "\n",
        "fit <- stan(model_code = stanmodelcode, model_name = \"example\",\n",
        "            data = dat, iter = 2012, chains = 8, sample_file = 'norm.csv',\n",
        "            verbose = FALSE,\n",
        "            refresh = -1)\n",
        "\n",
        "print(fit)"
      ],
      "execution_count": 10,
      "outputs": [
        {
          "output_type": "stream",
          "text": [
            "Inference for Stan model: example.\n",
            "8 chains, each with iter=2012; warmup=1006; thin=1; \n",
            "post-warmup draws per chain=1006, total post-warmup draws=8048.\n",
            "\n",
            "       mean se_mean   sd   2.5%    25%    50%    75%  97.5% n_eff Rhat\n",
            "mu     0.56    0.00 0.22   0.13   0.41   0.56   0.70   0.99  3002    1\n",
            "lp__ -31.76    0.01 0.68 -33.76 -31.91 -31.50 -31.33 -31.28  3540    1\n",
            "\n",
            "Samples were drawn using NUTS(diag_e) at Sun Dec 29 00:51:27 2019.\n",
            "For each parameter, n_eff is a crude measure of effective sample size,\n",
            "and Rhat is the potential scale reduction factor on split chains (at \n",
            "convergence, Rhat=1).\n"
          ],
          "name": "stdout"
        }
      ]
    },
    {
      "cell_type": "code",
      "metadata": {
        "id": "Vmo1YXVcx91I",
        "colab_type": "code",
        "colab": {
          "base_uri": "https://localhost:8080/",
          "height": 265
        },
        "outputId": "c324ff4f-aaf7-468a-8da0-8946d260c0c7"
      },
      "source": [
        "plot(fit)"
      ],
      "execution_count": 11,
      "outputs": [
        {
          "output_type": "stream",
          "text": [
            "ci_level: 0.8 (80% intervals)\n",
            "\n",
            "outer_level: 0.95 (95% intervals)\n",
            "\n"
          ],
          "name": "stderr"
        },
        {
          "output_type": "display_data",
          "data": {
            "image/png": "[encoded data removed]",
            "text/plain": [
              "plot without title"
            ]
          },
          "metadata": {
            "tags": [],
            "image/png": {
              "width": 180,
              "height": 180
            },
            "text/plain": {
              "width": 180,
              "height": 180
            }
          }
        }
      ]
    },
    {
      "cell_type": "code",
      "metadata": {
        "id": "0ocs9zTCx-Sw",
        "colab_type": "code",
        "colab": {
          "base_uri": "https://localhost:8080/",
          "height": 221
        },
        "outputId": "59bf157c-ee78-4a7d-8af8-c4979b4fa6a1"
      },
      "source": [
        "y <- as.matrix(read.table('https://raw.github.com/wiki/stan-dev/rstan/rats.txt', header = TRUE))\n",
        "x <- c(8, 15, 22, 29, 36)\n",
        "xbar <- mean(x)\n",
        "N <- nrow(y)\n",
        "T <- ncol(y)\n",
        "rats_fit <- stan(file = 'https://raw.githubusercontent.com/stan-dev/example-models/master/bugs_examples/vol1/rats/rats.stan')\n"
      ],
      "execution_count": 12,
      "outputs": [
        {
          "output_type": "stream",
          "text": [
            "Warning message in normalizePath(file):\n",
            "“path[1]=\"https://raw.githubusercontent.com/stan-dev/example-models/master/bugs_examples/vol1/rats/rats.stan\": No such file or directory”\n"
          ],
          "name": "stderr"
        },
        {
          "output_type": "stream",
          "text": [
            "DIAGNOSTIC(S) FROM PARSER:\n",
            "Info: Comments beginning with # are deprecated.  Please use // in place of # for line comments.\n",
            "Info: Comments beginning with # are deprecated.  Please use // in place of # for line comments.\n",
            "Info: Comments beginning with # are deprecated.  Please use // in place of # for line comments.\n",
            "Info: Comments beginning with # are deprecated.  Please use // in place of # for line comments.\n",
            "Info: assignment operator <- deprecated in the Stan language; use = instead.\n",
            "Info: assignment operator <- deprecated in the Stan language; use = instead.\n",
            "Info: assignment operator <- deprecated in the Stan language; use = instead.\n",
            "Info: assignment operator <- deprecated in the Stan language; use = instead.\n",
            "\n"
          ],
          "name": "stdout"
        }
      ]
    },
    {
      "cell_type": "code",
      "metadata": {
        "id": "HrED9oZSx_ph",
        "colab_type": "code",
        "colab": {
          "base_uri": "https://localhost:8080/",
          "height": 1000
        },
        "outputId": "daebbb3a-4437-4344-fac6-9714f35764bf"
      },
      "source": [
        "rats_fit"
      ],
      "execution_count": 13,
      "outputs": [
        {
          "output_type": "display_data",
          "data": {
            "text/plain": [
              "Inference for Stan model: rats.\n",
              "4 chains, each with iter=2000; warmup=1000; thin=1; \n",
              "post-warmup draws per chain=1000, total post-warmup draws=4000.\n",
              "\n",
              "                 mean se_mean    sd    2.5%     25%     50%     75%   97.5%\n",
              "alpha[1]       239.96    0.04  2.65  234.70  238.18  239.95  241.73  245.13\n",
              "alpha[2]       247.81    0.04  2.78  242.34  246.04  247.79  249.60  253.35\n",
              "alpha[3]       252.44    0.04  2.72  247.11  250.59  252.40  254.26  257.82\n",
              "alpha[4]       232.63    0.04  2.76  227.20  230.74  232.65  234.47  238.07\n",
              "alpha[5]       231.67    0.04  2.70  226.34  229.84  231.67  233.49  237.01\n",
              "alpha[6]       249.71    0.04  2.65  244.52  247.90  249.78  251.52  254.88\n",
              "alpha[7]       228.75    0.04  2.70  223.34  226.99  228.76  230.53  234.04\n",
              "alpha[8]       248.42    0.04  2.71  243.26  246.67  248.43  250.17  253.79\n",
              "alpha[9]       283.30    0.04  2.68  277.91  281.55  283.35  285.07  288.49\n",
              "alpha[10]      219.25    0.04  2.73  213.89  217.49  219.29  221.00  224.70\n",
              "alpha[11]      258.29    0.04  2.67  253.10  256.47  258.32  260.06  263.41\n",
              "alpha[12]      228.08    0.04  2.64  223.11  226.26  228.12  229.88  233.22\n",
              "alpha[13]      242.42    0.04  2.70  237.13  240.63  242.44  244.18  247.86\n",
              "alpha[14]      268.26    0.04  2.73  262.82  266.42  268.30  270.07  273.64\n",
              "alpha[15]      242.81    0.04  2.68  237.49  241.01  242.76  244.65  247.94\n",
              "alpha[16]      245.29    0.04  2.73  239.91  243.45  245.31  247.11  250.67\n",
              "alpha[17]      232.19    0.04  2.60  227.14  230.46  232.19  233.95  237.10\n",
              "alpha[18]      240.49    0.04  2.68  235.26  238.70  240.50  242.32  245.82\n",
              "alpha[19]      253.75    0.04  2.74  248.22  251.97  253.78  255.59  259.11\n",
              "alpha[20]      241.65    0.04  2.67  236.51  239.91  241.62  243.46  246.92\n",
              "alpha[21]      248.58    0.04  2.76  243.15  246.76  248.56  250.40  254.00\n",
              "alpha[22]      225.20    0.04  2.80  219.80  223.31  225.18  227.06  230.53\n",
              "alpha[23]      228.46    0.04  2.70  223.16  226.64  228.42  230.28  233.97\n",
              "alpha[24]      245.12    0.04  2.68  239.91  243.30  245.11  246.92  250.46\n",
              "alpha[25]      234.43    0.04  2.73  229.10  232.62  234.38  236.26  239.81\n",
              "alpha[26]      254.00    0.04  2.69  248.65  252.19  254.01  255.84  259.31\n",
              "alpha[27]      254.37    0.04  2.76  248.92  252.50  254.43  256.24  259.85\n",
              "alpha[28]      242.96    0.04  2.74  237.63  241.11  242.91  244.77  248.33\n",
              "alpha[29]      217.91    0.04  2.68  212.60  216.14  217.89  219.67  223.16\n",
              "alpha[30]      241.46    0.04  2.71  236.14  239.62  241.46  243.28  246.79\n",
              "beta[1]          6.06    0.00  0.25    5.56    5.90    6.06    6.22    6.53\n",
              "beta[2]          7.05    0.00  0.26    6.54    6.88    7.05    7.22    7.57\n",
              "beta[3]          6.48    0.00  0.25    5.99    6.32    6.48    6.65    6.96\n",
              "beta[4]          5.34    0.00  0.25    4.85    5.18    5.34    5.51    5.83\n",
              "beta[5]          6.57    0.00  0.25    6.10    6.40    6.57    6.74    7.05\n",
              "beta[6]          6.17    0.00  0.24    5.71    6.00    6.17    6.34    6.65\n",
              "beta[7]          5.98    0.00  0.25    5.49    5.82    5.98    6.14    6.50\n",
              "beta[8]          6.41    0.00  0.23    5.95    6.26    6.41    6.57    6.87\n",
              "beta[9]          7.06    0.00  0.25    6.55    6.88    7.06    7.23    7.55\n",
              "beta[10]         5.85    0.00  0.25    5.37    5.67    5.85    6.02    6.35\n",
              "beta[11]         6.80    0.00  0.25    6.31    6.63    6.80    6.96    7.28\n",
              "beta[12]         6.12    0.00  0.24    5.65    5.96    6.13    6.29    6.59\n",
              "beta[13]         6.17    0.00  0.24    5.72    6.00    6.16    6.33    6.65\n",
              "beta[14]         6.69    0.00  0.25    6.20    6.52    6.68    6.86    7.16\n",
              "beta[15]         5.42    0.00  0.25    4.92    5.25    5.42    5.58    5.91\n",
              "beta[16]         5.92    0.00  0.25    5.42    5.76    5.92    6.09    6.41\n",
              "beta[17]         6.27    0.00  0.24    5.80    6.11    6.28    6.44    6.75\n",
              "beta[18]         5.85    0.00  0.24    5.38    5.69    5.85    6.00    6.30\n",
              "beta[19]         6.39    0.00  0.25    5.90    6.23    6.39    6.56    6.87\n",
              "beta[20]         6.05    0.00  0.24    5.58    5.89    6.05    6.22    6.51\n",
              "beta[21]         6.41    0.00  0.24    5.93    6.24    6.40    6.57    6.89\n",
              "beta[22]         5.86    0.00  0.24    5.38    5.69    5.86    6.02    6.32\n",
              "beta[23]         5.75    0.00  0.25    5.27    5.59    5.75    5.91    6.23\n",
              "beta[24]         5.89    0.00  0.25    5.41    5.72    5.88    6.06    6.38\n",
              "beta[25]         6.91    0.00  0.25    6.43    6.74    6.90    7.07    7.40\n",
              "beta[26]         6.55    0.00  0.26    6.05    6.37    6.55    6.72    7.04\n",
              "beta[27]         5.90    0.00  0.24    5.42    5.75    5.90    6.06    6.39\n",
              "beta[28]         5.84    0.00  0.25    5.34    5.68    5.84    6.01    6.34\n",
              "beta[29]         5.67    0.00  0.23    5.21    5.52    5.67    5.83    6.13\n",
              "beta[30]         6.13    0.00  0.24    5.66    5.97    6.13    6.30    6.60\n",
              "mu_alpha       242.51    0.04  2.72  237.32  240.70  242.44  244.29  247.91\n",
              "mu_beta          6.19    0.00  0.11    5.96    6.12    6.19    6.26    6.39\n",
              "sigmasq_y       37.54    0.12  5.79   27.74   33.49   36.87   41.04   51.17\n",
              "sigmasq_alpha  219.40    1.12 65.48  126.61  173.09  207.55  253.40  374.35\n",
              "sigmasq_beta     0.27    0.00  0.10    0.13    0.20    0.26    0.32    0.51\n",
              "sigma_y          6.11    0.01  0.47    5.27    5.79    6.07    6.41    7.15\n",
              "sigma_alpha     14.66    0.03  2.11   11.25   13.16   14.41   15.92   19.35\n",
              "sigma_beta       0.52    0.00  0.09    0.36    0.45    0.51    0.57    0.71\n",
              "alpha0         106.44    0.06  3.62   99.53  104.01  106.36  108.88  113.60\n",
              "lp__          -438.67    0.20  7.14 -453.58 -443.34 -438.21 -433.81 -425.80\n",
              "              n_eff Rhat\n",
              "alpha[1]       4829    1\n",
              "alpha[2]       5832    1\n",
              "alpha[3]       5075    1\n",
              "alpha[4]       4971    1\n",
              "alpha[5]       4597    1\n",
              "alpha[6]       5378    1\n",
              "alpha[7]       5173    1\n",
              "alpha[8]       4489    1\n",
              "alpha[9]       4609    1\n",
              "alpha[10]      4872    1\n",
              "alpha[11]      4705    1\n",
              "alpha[12]      4934    1\n",
              "alpha[13]      4975    1\n",
              "alpha[14]      4664    1\n",
              "alpha[15]      4060    1\n",
              "alpha[16]      4923    1\n",
              "alpha[17]      4388    1\n",
              "alpha[18]      4872    1\n",
              "alpha[19]      4649    1\n",
              "alpha[20]      4987    1\n",
              "alpha[21]      4515    1\n",
              "alpha[22]      4947    1\n",
              "alpha[23]      5215    1\n",
              "alpha[24]      4605    1\n",
              "alpha[25]      5095    1\n",
              "alpha[26]      4233    1\n",
              "alpha[27]      5232    1\n",
              "alpha[28]      4453    1\n",
              "alpha[29]      5413    1\n",
              "alpha[30]      5533    1\n",
              "beta[1]        4426    1\n",
              "beta[2]        4705    1\n",
              "beta[3]        5463    1\n",
              "beta[4]        4101    1\n",
              "beta[5]        4277    1\n",
              "beta[6]        4343    1\n",
              "beta[7]        4939    1\n",
              "beta[8]        4471    1\n",
              "beta[9]        4702    1\n",
              "beta[10]       4724    1\n",
              "beta[11]       4636    1\n",
              "beta[12]       4972    1\n",
              "beta[13]       5004    1\n",
              "beta[14]       4144    1\n",
              "beta[15]       4503    1\n",
              "beta[16]       5256    1\n",
              "beta[17]       4581    1\n",
              "beta[18]       4561    1\n",
              "beta[19]       4588    1\n",
              "beta[20]       5238    1\n",
              "beta[21]       5136    1\n",
              "beta[22]       5053    1\n",
              "beta[23]       5021    1\n",
              "beta[24]       4372    1\n",
              "beta[25]       4341    1\n",
              "beta[26]       5399    1\n",
              "beta[27]       4346    1\n",
              "beta[28]       4975    1\n",
              "beta[29]       4976    1\n",
              "beta[30]       5421    1\n",
              "mu_alpha       3960    1\n",
              "mu_beta        3919    1\n",
              "sigmasq_y      2310    1\n",
              "sigmasq_alpha  3427    1\n",
              "sigmasq_beta   3061    1\n",
              "sigma_y        2292    1\n",
              "sigma_alpha    3725    1\n",
              "sigma_beta     3076    1\n",
              "alpha0         4039    1\n",
              "lp__           1297    1\n",
              "\n",
              "Samples were drawn using NUTS(diag_e) at Sun Dec 29 00:52:40 2019.\n",
              "For each parameter, n_eff is a crude measure of effective sample size,\n",
              "and Rhat is the potential scale reduction factor on split chains (at \n",
              "convergence, Rhat=1)."
            ]
          },
          "metadata": {
            "tags": []
          }
        }
      ]
    },
    {
      "cell_type": "code",
      "metadata": {
        "id": "c4HysAnzyA_p",
        "colab_type": "code",
        "colab": {
          "base_uri": "https://localhost:8080/",
          "height": 299
        },
        "outputId": "11c9e628-b5d1-46f0-ffb0-125669ee5989"
      },
      "source": [
        "plot(rats_fit)"
      ],
      "execution_count": 14,
      "outputs": [
        {
          "output_type": "stream",
          "text": [
            "'pars' not specified. Showing first 10 parameters by default.\n",
            "\n",
            "ci_level: 0.8 (80% intervals)\n",
            "\n",
            "outer_level: 0.95 (95% intervals)\n",
            "\n"
          ],
          "name": "stderr"
        },
        {
          "output_type": "display_data",
          "data": {
            "image/png": "[encoded data removed]",
            "text/plain": [
              "plot without title"
            ]
          },
          "metadata": {
            "tags": [],
            "image/png": {
              "width": 180,
              "height": 180
            },
            "text/plain": {
              "width": 180,
              "height": 180
            }
          }
        }
      ]
    },
    {
      "cell_type": "code",
      "metadata": {
        "id": "ypXiaqB6jKRh",
        "colab_type": "code",
        "colab": {
          "base_uri": "https://localhost:8080/",
          "height": 136
        },
        "outputId": "c7f29e9d-e14f-4251-8365-1f70b1736acb"
      },
      "source": [
        "## load APA data set, full version\n",
        "data(APAFULL)\n",
        "## Emond and Mason Branch-and-Bound algorithm.\n",
        "## If the number of object is higher than 20, EMCons function may work for several minutes.\n",
        "## Use either QuickCons, DECOR, FASTcons or FASTDECOR instead\n",
        "CR=EMCons(APAFULL)"
      ],
      "execution_count": 15,
      "outputs": [
        {
          "output_type": "stream",
          "text": [
            "Warning message:\n",
            "“'EMCons' will be removed in the next release of the package”\n"
          ],
          "name": "stderr"
        },
        {
          "output_type": "stream",
          "text": [
            "[1] \"round 1\"\n",
            "[1] \"evaluating 1 branches\"\n",
            "[1] \"evaluating 1 branches\"\n",
            "[1] \"evaluating 1 branches\"\n",
            "[1] \"evaluating 1 branches\"\n"
          ],
          "name": "stdout"
        }
      ]
    },
    {
      "cell_type": "code",
      "metadata": {
        "id": "uaE0kZ0vkqms",
        "colab_type": "code",
        "colab": {
          "base_uri": "https://localhost:8080/",
          "height": 232
        },
        "outputId": "d2cdac01-aa6d-48b4-be61-87c4b281e56d"
      },
      "source": [
        "TR=tabulaterows(APAFULL)\n",
        "CR2=FASTcons(TR$X,TR$Wk,maxiter=5)\n",
        "CR3=QuickCons(TR$X,TR$Wk)\n",
        "CR4=DECOR(TR$X,TR$Wk)\n",
        "#####################################\n",
        "### load sports data set\n",
        "#data(sports)\n",
        "### FAST algorithm\n",
        "#CR=FASTcons(sports,maxiter=10)\n",
        "#####################################\n",
        "#######################################\n",
        "### load Emond and Mason data set\n",
        "#data(EMD)\n",
        "### matrix X contains rankings\n",
        "#X=EMD[,1:15]\n",
        "### vector Wk contains frequencies\n",
        "#Wk=EMD[,16]\n",
        "### QUICK algorithm\n",
        "#CR=QuickCons(X,Wk)\n",
        "#######################################"
      ],
      "execution_count": 17,
      "outputs": [
        {
          "output_type": "stream",
          "text": [
            "Warning message:\n",
            "“'FASTcons' will be removed in the release of the package”\n",
            "Warning message:\n",
            "“'QuickCons' will be removed in the next release of the package”\n"
          ],
          "name": "stderr"
        },
        {
          "output_type": "error",
          "ename": "ERROR",
          "evalue": "ignored",
          "traceback": [
            "Error in DECORcore(cij, NJ, NP, L, FF, CR, FULL): object 'NJ' not found\nTraceback:\n",
            "1. DECOR(TR$X, TR$Wk)",
            "2. DECORcore(cij, NJ, NP, L, FF, CR, FULL)",
            "3. combincost(population[i, ], cij, NJ)"
          ]
        }
      ]
    },
    {
      "cell_type": "code",
      "metadata": {
        "id": "YmCDzKEpkxgc",
        "colab_type": "code",
        "colab": {
          "base_uri": "https://localhost:8080/",
          "height": 197
        },
        "outputId": "a8573a7b-54ba-46de-fc7c-b4620384bc92"
      },
      "source": [
        "data(BU)\n",
        "polyplot(BU[,1:3],Wk=BU[,4])"
      ],
      "execution_count": 18,
      "outputs": [
        {
          "output_type": "display_data",
          "data": {
            "image/png": "[encoded data removed]",
            "text/plain": [
              "plot without title"
            ]
          },
          "metadata": {
            "tags": [],
            "image/png": {
              "width": 180,
              "height": 180
            },
            "text/plain": {
              "width": 180,
              "height": 180
            }
          }
        }
      ]
    },
    {
      "cell_type": "code",
      "metadata": {
        "id": "IS3VN3qamf20",
        "colab_type": "code",
        "colab": {
          "base_uri": "https://localhost:8080/",
          "height": 68
        },
        "outputId": "c547667c-550a-4567-ab7e-dc2389dad676"
      },
      "source": [
        "install.packages(\"supernova\")"
      ],
      "execution_count": 23,
      "outputs": [
        {
          "output_type": "stream",
          "text": [
            "Installing package into ‘/usr/local/lib/R/site-library’\n",
            "(as ‘lib’ is unspecified)\n",
            "\n"
          ],
          "name": "stderr"
        }
      ]
    },
    {
      "cell_type": "code",
      "metadata": {
        "id": "-O55OmQlJL3d",
        "colab_type": "code",
        "colab": {}
      },
      "source": [
        "library(supernova)"
      ],
      "execution_count": 0,
      "outputs": []
    },
    {
      "cell_type": "code",
      "metadata": {
        "id": "KYYJ5QPjJaYF",
        "colab_type": "code",
        "colab": {
          "base_uri": "https://localhost:8080/",
          "height": 306
        },
        "outputId": "df471dc5-1030-4e7b-c68e-1317e93c934a"
      },
      "source": [
        "str(Fingers)"
      ],
      "execution_count": 25,
      "outputs": [
        {
          "output_type": "stream",
          "text": [
            "'data.frame':\t157 obs. of  16 variables:\n",
            " $ Sex          : Factor w/ 2 levels \"female\",\"male\": 2 1 1 2 1 1 2 1 1 1 ...\n",
            " $ RaceEthnic   : Factor w/ 5 levels \"White\",\"African American\",..: 3 3 4 3 3 1 3 4 3 3 ...\n",
            " $ FamilyMembers: int  7 5 2 4 3 8 2 6 4 1 ...\n",
            " $ SSLast       : num  NA 7 2 9 8 7 3 0 3 NA ...\n",
            " $ Year         : Factor w/ 4 levels \"1\",\"2\",\"3\",\"4\": 3 2 2 2 3 3 2 2 2 1 ...\n",
            " $ Job          : Factor w/ 3 levels \"Not Working\",..: 1 1 2 2 2 2 2 2 1 1 ...\n",
            " $ MathAnxious  : Factor w/ 5 levels \"Strongly Disagree\",..: 4 4 2 5 3 5 2 5 3 2 ...\n",
            " $ Interest     : Factor w/ 3 levels \"No Interest\",..: 1 2 3 3 2 1 3 3 2 2 ...\n",
            " $ GradePredict : num  3.3 3.7 3.3 4 3.7 4 4 3.7 4 4 ...\n",
            " $ Thumb        : num  66 64 56 58.4 74 ...\n",
            " $ Index        : num  79 73 69 76.2 79 64 80 62 74 66 ...\n",
            " $ Middle       : num  84 80 76 91.4 83 70 90 75 78 74 ...\n",
            " $ Ring         : num  74 75 71 76.2 76 65 70 70 73 70 ...\n",
            " $ Pinkie       : num  57 62 54 63.5 64 58 65 54 57 53 ...\n",
            " $ Height       : num  70.5 64.8 64 70 68 68 69 65.7 62.5 63.4 ...\n",
            " $ Weight       : num  188 127 195 145 150 122 175 129 120 130 ...\n"
          ],
          "name": "stdout"
        }
      ]
    },
    {
      "cell_type": "code",
      "metadata": {
        "id": "RLPPdB_8JcGi",
        "colab_type": "code",
        "colab": {}
      },
      "source": [
        ""
      ],
      "execution_count": 0,
      "outputs": []
    }
  ]
}