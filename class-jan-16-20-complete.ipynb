{
 "cells": [
  {
   "cell_type": "markdown",
   "metadata": {},
   "source": [
    "# Psych 100A January 16, 2020\n",
    "\n",
    "# OK Cupid Data\n",
    "R package of cleaned profile data from 59,946 OkCupid users who were living within 25 miles of San Francisco, had active profiles on June 26, 2012, were online in the previous year, and had at least one picture in their profile. The original data, publication, code, and codebook can be found at https://github.com/rudeboybert/JSE_OkCupid"
   ]
  },
  {
   "cell_type": "code",
   "execution_count": null,
   "metadata": {
    "scrolled": true
   },
   "outputs": [],
   "source": [
    "# run this code to load the okcupiddata data (profiles) into R\n",
    "library(okcupiddata)"
   ]
  },
  {
   "cell_type": "code",
   "execution_count": null,
   "metadata": {
    "scrolled": false
   },
   "outputs": [],
   "source": [
    "# write some code to find out what's in the data frame\n",
    "# Hint: the name of the data frame is profiles\n",
    "str(profiles)"
   ]
  },
  {
   "cell_type": "markdown",
   "metadata": {},
   "source": [
    "## 1. Cleaning Data\n",
    "Data are usually very messy and filled with errors. Therefore, cleaning the data is always the first step when getting a new data set."
   ]
  },
  {
   "cell_type": "code",
   "execution_count": null,
   "metadata": {
    "scrolled": false
   },
   "outputs": [],
   "source": [
    "# graph the distribution of age\n",
    "gf_histogram(~age, data=profiles, color=\"black\", fill=\"darkorange\")\n"
   ]
  },
  {
   "cell_type": "markdown",
   "metadata": {},
   "source": [
    "<div class=\"alert alert-block alert-warning\"><b>QUESTION:</b> \n",
    "Why do you think this distribution has the shape that it does? What do you think is the DGP?  \n",
    "</div>"
   ]
  },
  {
   "cell_type": "markdown",
   "metadata": {},
   "source": [
    "**enter your answer here**"
   ]
  },
  {
   "cell_type": "code",
   "execution_count": null,
   "metadata": {
    "scrolled": false
   },
   "outputs": [],
   "source": [
    "# run favstats() on the age variable\n",
    "favstats(~age, data=profiles)"
   ]
  },
  {
   "cell_type": "markdown",
   "metadata": {},
   "source": [
    "<div class=\"alert alert-block alert-warning\"><b>QUESTION:</b> \n",
    "What do you notice that may indicate a problem with the data? Were there any clues in the histogram?  \n",
    "</div>"
   ]
  },
  {
   "cell_type": "markdown",
   "metadata": {},
   "source": [
    "**enter your answer here**"
   ]
  },
  {
   "cell_type": "code",
   "execution_count": null,
   "metadata": {
    "scrolled": false
   },
   "outputs": [],
   "source": [
    "# re-run the histogram, this time filtering out anyone with age > 100\n",
    "# feel free to play with color, fill, and bindwidth\n",
    "gf_histogram(~age, data=filter(profiles, age<100), color=\"black\", fill=\"darkorange\")"
   ]
  },
  {
   "cell_type": "markdown",
   "metadata": {},
   "source": [
    "<div class=\"alert alert-block alert-info\"><b>THINK:</b> \n",
    "How does this distribution look different than the previous histogram?  \n",
    "</div>"
   ]
  },
  {
   "cell_type": "code",
   "execution_count": null,
   "metadata": {
    "scrolled": true
   },
   "outputs": [],
   "source": [
    "# run favstats() again to see what changed\n",
    "favstats(~age, data=filter(profiles, age<100))"
   ]
  },
  {
   "cell_type": "markdown",
   "metadata": {},
   "source": [
    "<div class=\"alert alert-block alert-warning\"><b>QUESTION:</b> \n",
    "How many cases were excluded by filtering age < 100?\n",
    "</div>"
   ]
  },
  {
   "cell_type": "markdown",
   "metadata": {},
   "source": [
    "**enter your answer here**"
   ]
  },
  {
   "cell_type": "code",
   "execution_count": null,
   "metadata": {
    "scrolled": true
   },
   "outputs": [],
   "source": [
    "# taking out these ages makes your data cleaner\n",
    "# write code to remove them from the data frame profiles\n",
    "# and as always, check to make sure your code worked!\n",
    "profiles <- filter(profiles, age<100)\n",
    "favstats(~age, data=profiles)"
   ]
  },
  {
   "cell_type": "markdown",
   "metadata": {},
   "source": [
    "## 2. The Five Number Summary\n",
    "POWERPOINT"
   ]
  },
  {
   "cell_type": "markdown",
   "metadata": {},
   "source": [
    "### Some playing around with boxplots"
   ]
  },
  {
   "cell_type": "code",
   "execution_count": null,
   "metadata": {
    "scrolled": false
   },
   "outputs": [],
   "source": [
    "# boxplots vertical and horizontal\n",
    "gf_boxplot(age ~ 0, data=profiles, fill=\"dodgerblue\", alpha=.5)%>%\n",
    "gf_lims(x = c(-1,1))"
   ]
  },
  {
   "cell_type": "code",
   "execution_count": null,
   "metadata": {},
   "outputs": [],
   "source": [
    "gf_boxploth(0 ~ age, data=profiles, fill=\"dodgerblue\", alpha=.5)%>%\n",
    "gf_lims(y = c(-1,1))"
   ]
  },
  {
   "cell_type": "code",
   "execution_count": null,
   "metadata": {},
   "outputs": [],
   "source": [
    "### overlaying boxplot on histogram\n",
    "gf_histogram(~age, data = profiles, color=\"black\", fill=\"darkorange\", alpha=.3) %>%\n",
    "gf_boxploth(-800 ~ age, color=\"black\", width=1200, data=profiles)%>%\n",
    "gf_theme(theme_classic)"
   ]
  },
  {
   "cell_type": "code",
   "execution_count": null,
   "metadata": {
    "scrolled": true
   },
   "outputs": [],
   "source": []
  }
 ],
 "metadata": {
  "kernelspec": {
   "display_name": "R",
   "language": "R",
   "name": "ir"
  },
  "language_info": {
   "codemirror_mode": "r",
   "file_extension": ".r",
   "mimetype": "text/x-r-source",
   "name": "R",
   "pygments_lexer": "r",
   "version": "3.6.1"
  }
 },
 "nbformat": 4,
 "nbformat_minor": 2
}
