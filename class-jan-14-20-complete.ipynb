{
 "cells": [
  {
   "cell_type": "markdown",
   "metadata": {},
   "source": [
    "# Psych 100A January 14, 2020"
   ]
  },
  {
   "cell_type": "markdown",
   "metadata": {},
   "source": [
    "# *Westvaco: The Whole Thing (Continued)*\n",
    "Robert Martin was laid off from his job at Westvaco, Inc. soon after he turned 55 years old. He sued for age discrimination. How do we evaluate his claim?\n",
    "\n",
    "Ages of all employees in the department: 25, 33, 35, 38, 48, 55, 55, 55, 56, 64\n",
    "\n",
    "Ages of the 3 employees who were fired: 55, 55, 64"
   ]
  },
  {
   "cell_type": "markdown",
   "metadata": {},
   "source": [
    "## 1. The Data: Last Time\n",
    "What data are relevant to evaluating the claim for discrimination? Run the code below to get the data back into R, and to produce a relevant statistic (mean ages of those fired vs. everyone)."
   ]
  },
  {
   "cell_type": "code",
   "execution_count": null,
   "metadata": {
    "scrolled": false
   },
   "outputs": [],
   "source": [
    "# Put the ages of everyone in the department into an R object named \"age\", and print out the contents of age\n",
    "age <- c(25, 33, 35, 38, 48, 55, 55, 55, 56, 64)\n",
    "fired <- c(55,55,64)\n",
    "\n",
    "# Calculate the mean age for everyone and for the three people fired\n",
    "mean(age)\n",
    "mean(fired)"
   ]
  },
  {
   "cell_type": "markdown",
   "metadata": {},
   "source": [
    "## 3. A Sampling Distribution\n",
    "Sampling distributions are the third kind of distribution we study; the other two are **data** and **DGP**.\n",
    "\n",
    "In the Westvaco case, our strategy is to create a sampling distribution based on the purely random model (i.e., employees are fired randomly, not due to age). If we are able to rule out the purely random model (*fired = other stuff*), then we have support for our alternative model (*fired = age + other stuff*).\n",
    "\n",
    "### 3.1 Create a sampling distribution"
   ]
  },
  {
   "cell_type": "code",
   "execution_count": null,
   "metadata": {
    "scrolled": false
   },
   "outputs": [],
   "source": [
    "# Randomly select 3 people to fire and save the result in fired.rand\n",
    "fired.rand <- sample(age, 3)\n",
    "fired.rand"
   ]
  },
  {
   "cell_type": "code",
   "execution_count": null,
   "metadata": {
    "scrolled": false
   },
   "outputs": [],
   "source": [
    "# Do it again, but this time save a summary of the sample (i.e., the mean) instead of the individual ages\n",
    "fired.rand <- mean(sample(age,3))\n",
    "fired.rand"
   ]
  },
  {
   "cell_type": "code",
   "execution_count": null,
   "metadata": {
    "scrolled": false
   },
   "outputs": [],
   "source": [
    "# Let's see what happens if you put do(3) * before the code in the previous cell\n",
    "fired.rand <- do(3) * mean(sample(age,3))\n",
    "fired.rand"
   ]
  },
  {
   "cell_type": "code",
   "execution_count": null,
   "metadata": {
    "scrolled": false
   },
   "outputs": [],
   "source": [
    "# One more time, but this time create a data frame (fired.rand) with the mean ages fired for 1000 simulated firings, and check to see your code worked.\n",
    "\n",
    "fired.rand <- do(1000) * mean(sample(age, 3))\n",
    "str(fired.rand)"
   ]
  },
  {
   "cell_type": "markdown",
   "metadata": {},
   "source": [
    "### 3.2 Graph the sampling distribution"
   ]
  },
  {
   "cell_type": "code",
   "execution_count": null,
   "metadata": {
    "scrolled": false
   },
   "outputs": [],
   "source": [
    "# Make a histogram of the sampling distribution of mean ages of those fired\n",
    "gf_histogram(~ mean, data=fired.rand)\n"
   ]
  },
  {
   "cell_type": "markdown",
   "metadata": {},
   "source": [
    "<div class=\"alert alert-block alert-warning\"><b>PollEV:</b> \n",
    "What does the count on the y-axis in this distribution refer to? \n",
    "</div>"
   ]
  },
  {
   "cell_type": "code",
   "execution_count": null,
   "metadata": {},
   "outputs": [],
   "source": [
    "# Calculate the mean of this sampling distribution\n",
    "mean(fired.rand$mean)"
   ]
  },
  {
   "cell_type": "markdown",
   "metadata": {},
   "source": [
    "<div class=\"alert alert-block alert-warning\"><b>QUESTION:</b> \n",
    "Why do you think the mean of this sampling distribution is so close to the mean of the 10 ages in the original data?  \n",
    "</div>"
   ]
  },
  {
   "cell_type": "markdown",
   "metadata": {},
   "source": [
    "**enter your answer here**"
   ]
  },
  {
   "cell_type": "markdown",
   "metadata": {},
   "source": [
    "### 3.3 Use the sampling distribution (as a probability distribution)\n",
    "Let's use the sampling distribution to help us think about the alternative models of the DGP. How likely is it that we would have obtained and average age of 58 for fired employees if we had just fired people randomly?  "
   ]
  },
  {
   "cell_type": "code",
   "execution_count": null,
   "metadata": {
    "scrolled": false
   },
   "outputs": [],
   "source": [
    "# Remake the histogram above. This time, shade in the proportion of simulated samples that had average ages of 58 or higher\n",
    "\n",
    "gf_histogram(~ mean, data=fired.rand, fill=~mean>=58)"
   ]
  },
  {
   "cell_type": "code",
   "execution_count": null,
   "metadata": {
    "scrolled": false
   },
   "outputs": [],
   "source": [
    "# How many of the 1000 simulated samples had a mean age of 58 or greater?\n",
    "tally(~ mean >= 58, data=fired.rand)"
   ]
  },
  {
   "cell_type": "code",
   "execution_count": null,
   "metadata": {
    "scrolled": false
   },
   "outputs": [],
   "source": [
    "# What proportion of the 1000 simulated samples had a mean age of 58 or greater?\n",
    "tally(~ mean >= 58, data=fired.rand, format=\"proportion\")"
   ]
  },
  {
   "cell_type": "markdown",
   "metadata": {},
   "source": [
    "### 3.4 Final Question\n",
    "\n",
    "<div class=\"alert alert-block alert-warning\"><b>QUESTION:</b> \n",
    "If the probability of getting an average age of 58 or greater turns out to be small, does this favor Martin or Westvaco? Why?\n",
    "</div>"
   ]
  },
  {
   "cell_type": "markdown",
   "metadata": {},
   "source": [
    "**enter your answer here**"
   ]
  }
 ],
 "metadata": {
  "kernelspec": {
   "display_name": "R",
   "language": "R",
   "name": "ir"
  },
  "language_info": {
   "codemirror_mode": "r",
   "file_extension": ".r",
   "mimetype": "text/x-r-source",
   "name": "R",
   "pygments_lexer": "r",
   "version": "3.6.1"
  }
 },
 "nbformat": 4,
 "nbformat_minor": 2
}
