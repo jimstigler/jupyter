{
  "cells": [
    {
      "cell_type": "markdown",
      "source": [
        "# Psych 100A January 9, 2020"
      ],
      "metadata": {}
    },
    {
      "cell_type": "markdown",
      "source": [
        "# Westvaco: The Whole Thing\n",
        "Robert Martin was laid off from his job at Westvaco, Inc. soon after he turned 55 years old. He sued for age discrimination. How do we evaluate his claim?\n",
        "\n",
        "Ages of all employees in the department: 25, 33, 35, 38, 48, 55, 55, 55, 56, 64\n",
        "\n",
        "Ages of the 3 employees who were fired: 55, 55, 64\n",
        "\n",
        "<div class=\"alert alert-block alert-warning\">\n",
        "<b>PollEV:</b> Do you think Robert Martin has a good case? Was this age discrimination? Or do you think the company has a case for arguing that age was not the reason Martin was fired? Explain your answer.\n",
        "</div>"
      ],
      "metadata": {}
    },
    {
      "cell_type": "markdown",
      "source": [
        "## 1. The Data\n",
        "What data are relevant to evaluating the claim for discrimination?"
      ],
      "metadata": {}
    },
    {
      "cell_type": "code",
      "source": [
        "# Put the ages of everyone in the department into an R object named \"age\", and print out the contents of age\n",
        "age <- c(25, 33, 35, 38, 48, 55, 55, 55, 56, 64)\n",
        "age"
      ],
      "outputs": [
        {
          "output_type": "display_data",
          "data": {
            "text/html": [
              "<ol class=list-inline>\n",
              "\t<li>25</li>\n",
              "\t<li>33</li>\n",
              "\t<li>35</li>\n",
              "\t<li>38</li>\n",
              "\t<li>48</li>\n",
              "\t<li>55</li>\n",
              "\t<li>55</li>\n",
              "\t<li>55</li>\n",
              "\t<li>56</li>\n",
              "\t<li>64</li>\n",
              "</ol>\n"
            ],
            "text/markdown": [
              "1. 25\n",
              "2. 33\n",
              "3. 35\n",
              "4. 38\n",
              "5. 48\n",
              "6. 55\n",
              "7. 55\n",
              "8. 55\n",
              "9. 56\n",
              "10. 64\n",
              "\n",
              "\n"
            ],
            "text/latex": [
              "\\begin{enumerate*}\n",
              "\\item 25\n",
              "\\item 33\n",
              "\\item 35\n",
              "\\item 38\n",
              "\\item 48\n",
              "\\item 55\n",
              "\\item 55\n",
              "\\item 55\n",
              "\\item 56\n",
              "\\item 64\n",
              "\\end{enumerate*}\n"
            ],
            "text/plain": [
              " [1] 25 33 35 38 48 55 55 55 56 64"
            ]
          },
          "metadata": {}
        }
      ],
      "execution_count": 1,
      "metadata": {}
    },
    {
      "cell_type": "code",
      "source": [
        "# Put ages for those fired into an R object named \"fired\", and print the contents of fired\n",
        "fired <- c(55,55,64)\n",
        "fired"
      ],
      "outputs": [
        {
          "output_type": "display_data",
          "data": {
            "text/html": [
              "<ol class=list-inline>\n",
              "\t<li>55</li>\n",
              "\t<li>55</li>\n",
              "\t<li>64</li>\n",
              "</ol>\n"
            ],
            "text/latex": [
              "\\begin{enumerate*}\n",
              "\\item 55\n",
              "\\item 55\n",
              "\\item 64\n",
              "\\end{enumerate*}\n"
            ],
            "text/markdown": [
              "1. 55\n",
              "2. 55\n",
              "3. 64\n",
              "\n",
              "\n"
            ],
            "text/plain": [
              "[1] 55 55 64"
            ]
          },
          "metadata": {}
        }
      ],
      "execution_count": 2,
      "metadata": {}
    },
    {
      "cell_type": "code",
      "source": [
        "# Calculate the mean age for everyone and for the three people fired\n",
        "mean(age)\n",
        "mean(fired)"
      ],
      "outputs": [
        {
          "output_type": "display_data",
          "data": {
            "text/html": [
              "46.4"
            ],
            "text/latex": [
              "46.4"
            ],
            "text/markdown": [
              "46.4"
            ],
            "text/plain": [
              "[1] 46.4"
            ]
          },
          "metadata": {}
        },
        {
          "output_type": "display_data",
          "data": {
            "text/html": [
              "58"
            ],
            "text/latex": [
              "58"
            ],
            "text/markdown": [
              "58"
            ],
            "text/plain": [
              "[1] 58"
            ]
          },
          "metadata": {}
        }
      ],
      "execution_count": 3,
      "metadata": {}
    },
    {
      "cell_type": "markdown",
      "source": [
        "## 2. The DGP (Data Generating Process)\n",
        "We know which of the 10 people in this department got fired. And, we know they were older on average than the rest. But what we really want to know is: what is the Data Generating Process? Does age play a role in determining who gets fired, or could the apparent association between age and being fired be simply the result of random processes?\n",
        "\n",
        "### 2.1 Represent the possible DGP in word equations\n",
        "1. *fired = age* (possible?)\n",
        "2. *fired = age + other stuff* (what is the other stuff?)\n",
        "3. *fired = other stuff*\n",
        "\n",
        "### 2.2 Simulate random"
      ],
      "metadata": {}
    },
    {
      "cell_type": "code",
      "source": [
        "# We can use R to simulate a random process. Let's take the 10 ages (each representing an employee), \n",
        "# and randomly choose three to fire. Save the result in fired.rand, and print out fired.rand.\n",
        "fired.rand <- sample(age, 3)\n",
        "fired.rand"
      ],
      "outputs": [
        {
          "output_type": "display_data",
          "data": {
            "text/html": [
              "<ol class=list-inline>\n",
              "\t<li>35</li>\n",
              "\t<li>64</li>\n",
              "\t<li>33</li>\n",
              "</ol>\n"
            ],
            "text/latex": [
              "\\begin{enumerate*}\n",
              "\\item 35\n",
              "\\item 64\n",
              "\\item 33\n",
              "\\end{enumerate*}\n"
            ],
            "text/markdown": [
              "1. 35\n",
              "2. 64\n",
              "3. 33\n",
              "\n",
              "\n"
            ],
            "text/plain": [
              "[1] 35 64 33"
            ]
          },
          "metadata": {}
        }
      ],
      "execution_count": 4,
      "metadata": {}
    },
    {
      "cell_type": "markdown",
      "source": [
        "<div class=\"alert alert-block alert-warning\">\n",
        "    <b>QUESTION:</b> What would happen if you run this code again? Try it.\n",
        "</div>"
      ],
      "metadata": {}
    },
    {
      "cell_type": "code",
      "source": [
        "# Let's take 3 random samples and save the results (using do()) in a data frame fired.rand. Print out fired.rand.\n",
        "fired.rand <- do(3) * sample(age, 3)\n",
        "fired.rand"
      ],
      "outputs": [
        {
          "output_type": "display_data",
          "data": {
            "text/html": [
              "<table>\n",
              "<caption>A do.data.frame: 3 × 3</caption>\n",
              "<thead>\n",
              "\t<tr><th scope=col>V1</th><th scope=col>V2</th><th scope=col>V3</th></tr>\n",
              "\t<tr><th scope=col>&lt;dbl&gt;</th><th scope=col>&lt;dbl&gt;</th><th scope=col>&lt;dbl&gt;</th></tr>\n",
              "</thead>\n",
              "<tbody>\n",
              "\t<tr><td>35</td><td>55</td><td>33</td></tr>\n",
              "\t<tr><td>48</td><td>55</td><td>33</td></tr>\n",
              "\t<tr><td>35</td><td>48</td><td>38</td></tr>\n",
              "</tbody>\n",
              "</table>\n"
            ],
            "text/latex": [
              "A do.data.frame: 3 × 3\n",
              "\\begin{tabular}{r|lll}\n",
              " V1 & V2 & V3\\\\\n",
              " <dbl> & <dbl> & <dbl>\\\\\n",
              "\\hline\n",
              "\t 35 & 55 & 33\\\\\n",
              "\t 48 & 55 & 33\\\\\n",
              "\t 35 & 48 & 38\\\\\n",
              "\\end{tabular}\n"
            ],
            "text/markdown": [
              "\n",
              "A do.data.frame: 3 × 3\n",
              "\n",
              "| V1 &lt;dbl&gt; | V2 &lt;dbl&gt; | V3 &lt;dbl&gt; |\n",
              "|---|---|---|\n",
              "| 35 | 55 | 33 |\n",
              "| 48 | 55 | 33 |\n",
              "| 35 | 48 | 38 |\n",
              "\n"
            ],
            "text/plain": [
              "  V1 V2 V3\n",
              "1 35 55 33\n",
              "2 48 55 33\n",
              "3 35 48 38"
            ]
          },
          "metadata": {}
        }
      ],
      "execution_count": 5,
      "metadata": {}
    },
    {
      "cell_type": "markdown",
      "source": [
        "<div class=\"alert alert-block alert-warning\">\n",
        "    <b>QUESTION:</b> Can you figure out a way to get the mean age of those fired for each simulation?\n",
        "</div>"
      ],
      "metadata": {}
    },
    {
      "cell_type": "code",
      "source": [
        "# Method 1\n",
        "fired.rand$mean <- (fired.rand$V1 + fired.rand$V2 + fired.rand$V3)/3\n",
        "fired.rand"
      ],
      "outputs": [
        {
          "output_type": "display_data",
          "data": {
            "text/html": [
              "<table>\n",
              "<caption>A do.data.frame: 3 × 4</caption>\n",
              "<thead>\n",
              "\t<tr><th scope=col>V1</th><th scope=col>V2</th><th scope=col>V3</th><th scope=col>mean</th></tr>\n",
              "\t<tr><th scope=col>&lt;dbl&gt;</th><th scope=col>&lt;dbl&gt;</th><th scope=col>&lt;dbl&gt;</th><th scope=col>&lt;dbl&gt;</th></tr>\n",
              "</thead>\n",
              "<tbody>\n",
              "\t<tr><td>35</td><td>55</td><td>33</td><td>41.00000</td></tr>\n",
              "\t<tr><td>48</td><td>55</td><td>33</td><td>45.33333</td></tr>\n",
              "\t<tr><td>35</td><td>48</td><td>38</td><td>40.33333</td></tr>\n",
              "</tbody>\n",
              "</table>\n"
            ],
            "text/latex": [
              "A do.data.frame: 3 × 4\n",
              "\\begin{tabular}{r|llll}\n",
              " V1 & V2 & V3 & mean\\\\\n",
              " <dbl> & <dbl> & <dbl> & <dbl>\\\\\n",
              "\\hline\n",
              "\t 35 & 55 & 33 & 41.00000\\\\\n",
              "\t 48 & 55 & 33 & 45.33333\\\\\n",
              "\t 35 & 48 & 38 & 40.33333\\\\\n",
              "\\end{tabular}\n"
            ],
            "text/markdown": [
              "\n",
              "A do.data.frame: 3 × 4\n",
              "\n",
              "| V1 &lt;dbl&gt; | V2 &lt;dbl&gt; | V3 &lt;dbl&gt; | mean &lt;dbl&gt; |\n",
              "|---|---|---|---|\n",
              "| 35 | 55 | 33 | 41.00000 |\n",
              "| 48 | 55 | 33 | 45.33333 |\n",
              "| 35 | 48 | 38 | 40.33333 |\n",
              "\n"
            ],
            "text/plain": [
              "  V1 V2 V3 mean    \n",
              "1 35 55 33 41.00000\n",
              "2 48 55 33 45.33333\n",
              "3 35 48 38 40.33333"
            ]
          },
          "metadata": {}
        }
      ],
      "execution_count": 6,
      "metadata": {}
    },
    {
      "cell_type": "code",
      "source": [
        "# Method 2\n",
        "fired.rand <- do(3) * mean(sample(age, 3))\n",
        "fired.rand"
      ],
      "outputs": [
        {
          "output_type": "display_data",
          "data": {
            "text/html": [
              "<table>\n",
              "<caption>A do.data.frame: 3 × 1</caption>\n",
              "<thead>\n",
              "\t<tr><th scope=col>mean</th></tr>\n",
              "\t<tr><th scope=col>&lt;dbl&gt;</th></tr>\n",
              "</thead>\n",
              "<tbody>\n",
              "\t<tr><td>40.66667</td></tr>\n",
              "\t<tr><td>45.33333</td></tr>\n",
              "\t<tr><td>41.33333</td></tr>\n",
              "</tbody>\n",
              "</table>\n"
            ],
            "text/latex": [
              "A do.data.frame: 3 × 1\n",
              "\\begin{tabular}{r|l}\n",
              " mean\\\\\n",
              " <dbl>\\\\\n",
              "\\hline\n",
              "\t 40.66667\\\\\n",
              "\t 45.33333\\\\\n",
              "\t 41.33333\\\\\n",
              "\\end{tabular}\n"
            ],
            "text/markdown": [
              "\n",
              "A do.data.frame: 3 × 1\n",
              "\n",
              "| mean &lt;dbl&gt; |\n",
              "|---|\n",
              "| 40.66667 |\n",
              "| 45.33333 |\n",
              "| 41.33333 |\n",
              "\n"
            ],
            "text/plain": [
              "  mean    \n",
              "1 40.66667\n",
              "2 45.33333\n",
              "3 41.33333"
            ]
          },
          "metadata": {}
        }
      ],
      "execution_count": 7,
      "metadata": {}
    },
    {
      "cell_type": "markdown",
      "source": [
        "<div class=\"alert alert-block alert-warning\">\n",
        "    <b>QUESTION:</b> Why do these numbers vary across the 3 simulations?\n",
        "</div>"
      ],
      "metadata": {}
    },
    {
      "cell_type": "markdown",
      "source": [
        "## 3. A Sampling Distribution\n",
        "Now we can return to our two possible models of the DGP:\n",
        "1. *fired = age + other stuff*\n",
        "2. *fired = other stuff*\n",
        "We can simulate the second model. If we do that, we can then see **how likely our actual data (e.g., the mean age of employees who were fired) would be to occur *IF* the second (completely random) model were true.**\n",
        "\n",
        "### 3.1 Creating a sampling distribution"
      ],
      "metadata": {}
    },
    {
      "cell_type": "code",
      "source": [
        "# Create a data frame (fired.rand) with the mean ages fired for 1000 simulated firings\n",
        "fired.rand <- do(1000) * mean(sample(age, 3))\n",
        "glimpse(fired.rand)"
      ],
      "outputs": [
        {
          "output_type": "stream",
          "name": "stdout",
          "text": [
            "Observations: 1,000\n",
            "Variables: 1\n",
            "$ mean \u001b[3m\u001b[90m<dbl>\u001b[39m\u001b[23m 39.66667, 47.00000, 45.33333, 58.00000, 52.66667, 52.66667, 42.6…\n"
          ]
        }
      ],
      "execution_count": 8,
      "metadata": {}
    },
    {
      "cell_type": "markdown",
      "source": [
        "### 3.2 Graphing a sampling distribution"
      ],
      "metadata": {}
    },
    {
      "cell_type": "code",
      "source": [
        "# Make a histogram of the sampling distribution of mean ages of those fired\n",
        "gf_histogram(~ mean, data=fired.rand)"
      ],
      "outputs": [
        {
          "output_type": "display_data",
          "data": {
            "image/png": "[encoded data removed]",
            "text/plain": [
              "plot without title"
            ]
          },
          "metadata": {
            "image/png": {
              "height": 240,
              "width": 240
            },
            "text/plain": {
              "height": 240,
              "width": 240
            }
          }
        }
      ],
      "execution_count": 9,
      "metadata": {}
    },
    {
      "cell_type": "code",
      "source": [
        "# Shade in the proportion of simulated samples that had average ages of 58 or higher\n",
        "gf_histogram(~ mean, data=fired.rand, fill=~mean>=58)"
      ],
      "outputs": [
        {
          "output_type": "display_data",
          "data": {
            "image/png": "[encoded data removed]",
            "text/plain": [
              "plot without title"
            ]
          },
          "metadata": {
            "image/png": {
              "height": 240,
              "width": 240
            },
            "text/plain": {
              "height": 240,
              "width": 240
            }
          }
        }
      ],
      "execution_count": 10,
      "metadata": {}
    },
    {
      "cell_type": "markdown",
      "source": [
        "### 3.3 Thinking about the sampling distribution"
      ],
      "metadata": {}
    },
    {
      "cell_type": "code",
      "source": [
        "# Calculate the mean of the sampling distribution here\n",
        "mean(fired.rand$mean)"
      ],
      "outputs": [
        {
          "output_type": "display_data",
          "data": {
            "text/html": [
              "46.2343333333333"
            ],
            "text/latex": [
              "46.2343333333333"
            ],
            "text/markdown": [
              "46.2343333333333"
            ],
            "text/plain": [
              "[1] 46.23433"
            ]
          },
          "metadata": {}
        }
      ],
      "execution_count": 11,
      "metadata": {}
    },
    {
      "cell_type": "markdown",
      "source": [
        "<div class=\"alert alert-block alert-warning\">\n",
        "<b>PollEV:</b> Why do you think the mean of this sampling distribution is so close to the mean of the 10 ages in the original data?\n",
        "</div>"
      ],
      "metadata": {}
    },
    {
      "cell_type": "markdown",
      "source": [
        "### 3.4 Using the sampling distribution\n",
        "Let's use the sampling distribution to help us think about the alternative models of the DGP. How likely is it that we would have obtained and average age of 58 for fired employees if we had just fired people randomly?"
      ],
      "metadata": {}
    },
    {
      "cell_type": "code",
      "source": [
        "# How many of the 1000 simulated samples had a mean age of 58 or greater?\n",
        "tally(~ mean >= 58, data=fired.rand)"
      ],
      "outputs": [
        {
          "output_type": "display_data",
          "data": {
            "text/plain": [
              "mean >= 58\n",
              " TRUE FALSE \n",
              "   49   951 "
            ]
          },
          "metadata": {}
        }
      ],
      "execution_count": 12,
      "metadata": {}
    },
    {
      "cell_type": "code",
      "source": [
        "# What proportion of the 1000 simulated samples had a mean age of 58 or greater?\n",
        "tally(~ mean >= 58, data=fired.rand, format=\"proportion\")"
      ],
      "outputs": [
        {
          "output_type": "display_data",
          "data": {
            "text/plain": [
              "mean >= 58\n",
              " TRUE FALSE \n",
              "0.049 0.951 "
            ]
          },
          "metadata": {}
        }
      ],
      "execution_count": 13,
      "metadata": {}
    }
  ],
  "metadata": {
    "kernelspec": {
      "name": "ir",
      "language": "R",
      "display_name": "R"
    },
    "language_info": {
      "name": "R",
      "codemirror_mode": "r",
      "pygments_lexer": "r",
      "mimetype": "text/x-r-source",
      "file_extension": ".r",
      "version": "3.6.1"
    },
    "kernel_info": {
      "name": "ir"
    },
    "nteract": {
      "version": "0.15.0"
    }
  },
  "nbformat": 4,
  "nbformat_minor": 2
}