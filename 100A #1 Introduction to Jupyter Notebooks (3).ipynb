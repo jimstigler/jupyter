{
 "cells": [
  {
   "cell_type": "markdown",
   "metadata": {},
   "source": [
    "# 100A #1: Introduction to Jupyter Notebooks\n",
    "You have been learning R in the textbook using the *DataCamp* interface. But statisticians and data scientists don't use *DataCamp* in their work. They use either RStudio or Jupyter Notebooks. The main advantage of these platforms is that they enable you to save your work and continue it later.\n",
    "## 1. Jupyter Basics\n",
    "Here are a few basic concepts to get you started with Jupyter Notebooks:\n",
    "1. **A notebook is a page.** The page you are looking at right now is a single Jupyter Notebook. In some ways it is like any other document. But there is one important difference: if you write code on a Jupyter Notebook page the code can be run right on the page. And if you run the code, the output will be inserted on the page right below the code.\n",
    "2. **A notebook consists of a series of *cells*.** There are two main types of cells: a *markdown* cell, which is used for entering text; and a *code* cell, which is used for entering R code. (We have over-simplified a bit here, but this is enough to get you started.) The text you are reading now is inside of a *markdown* cell. A little further down the page we will show you some *code* cells.\n",
    "3. **A notebook is a great way to organize, present, and share a data analysis.** The notebook format fits well with the practice of data analysis. In a *markdown* cell you can pose questions and then propose a data analysis plan. You can then add a *code* cell to write R code and actually run the analyses you want to run. After you run an analysis, you can add another *markdown* cell to interpret the results of the anlysis you ran.\n"
   ]
  },
  {
   "cell_type": "markdown",
   "metadata": {},
   "source": [
    "## 2. Markdown Cells\n",
    "Now lets take a closer look at how *markdown* cells work. Here are some key points:\n",
    "1. Click on a cell (go ahead and click on this one). The blue bar on the left side shows that the cell is selected.\n",
    "2. Look at the dropdown menu on the far right side of the toolbar and you will see that it says **Markdown**. That's how you can tell for sure what kind of cell you have selected. (You also can use the dropdown to change one cell type to another.)\n",
    "3. When you double-click in a cell **(don't do it yet)**, it puts the cell in **edit** mode, and you can then modify the contents of the cell.\n",
    "4. When you are in edit mode the markdown text isn't as nicely formatted. Markdown is a way to enter plain text, and make it look nicely formatted when it is finally rendered in a page. \n",
    "5. To render a *markdown* cell when it is in **edit** mode you just need to **run** it. You can do this in a number of ways:\n",
    "\n",
    "-Click on the **Cell** menu (above the toolbar) and select **Run Cells**\n",
    "\n",
    "-Click on the **Run** button on the toolbar\n",
    "\n",
    "-Hit **Shift + Return**"
   ]
  },
  {
   "cell_type": "markdown",
   "metadata": {},
   "source": [
    "<div class=\"alert alert-block alert-info\">\n",
    "<b>TRY THIS:</b> Double-click in the markdown cell above to go into </b>edit</b> mode. Notice that the text gets ugly! Now </b>run</b> the cell using any of the three methods above. It renders the text back into its nicely-formatted state.\n",
    "</div>"
   ]
  },
  {
   "cell_type": "markdown",
   "metadata": {},
   "source": [
    "## 3. Edit a Markdown Cell\n",
    "Using just a few *markdown* conventions you can make your Jupyter Notebook look nice and organized. To add headings and subheadings you just put some # symbols at the beginning of a line. \n",
    "# First Level Headings\n",
    "To add a first level heading just put a single # symbol, then a space, before a line of text (as we did here). \n",
    "## Second Level Headings\n",
    "For these you put two ## followed by a space in front of a line of text, etc.\n",
    "### And here's a third level\n",
    "\n",
    "**Putting two asterisks in front of and at the end of some text makes the text bold.**\n",
    "*Putting a single asterisk in front of and at the end of some text makes it italics.*\n",
    "Putting a dash and space at the beginning of a line adds a bullet. Like this:\n",
    "- Item 1\n",
    "- Item 2\n",
    "- Item 3\n",
    "\n",
    "Note that you can also do some fancy stuff in Jupyter Notebooks, like show alert boxes in different colors. You don't need to worry about this, except to note that we will sometimes use color to make our notebooks easier to follow (like in the paragraph below).\n",
    "\n",
    "<div class=\"alert alert-block alert-info\">\n",
    "<b>TRY THIS:</b> Click somewhere here to select this markdown cell. Then double-click to go into edit mode. Edit the text in the cell however you want, then run the cell (using <b>Shift + Return</b>.) See how it works? Go ahead and practice making more changes, then running the cell.\n",
    "</div>"
   ]
  },
  {
   "cell_type": "markdown",
   "metadata": {},
   "source": [
    "## 4. Code Cells\n",
    "Now let's look at *code* cells and see how they work. The cell right below this one is a code cell. One way to instantly see it is a code cell is that it has the notation `In [  ]:` off to the left of it. \n",
    "\n",
    "By now you probably recognize the R code in the cell below: it tells R to print out the phrase \"Hello World.\" The `In` means **Input**. After you run the code, the **output** will appear below it. \n",
    "\n",
    "<div class=\"alert alert-block alert-info\">\n",
    "<b>TRY THIS:</b> Click in the code cell below (you can just click where it says \"Hello World\") to select it. Note that the bar to the left turns green indicating that you are in edit mode. Now </b>run</b> the code cell by clicking <b>Shift + Return</b> (or by using either of the other two methods you've learned for running a cell).\n",
    "</div>"
   ]
  },
  {
   "cell_type": "code",
   "execution_count": null,
   "metadata": {},
   "outputs": [],
   "source": [
    "print(\"Hello World\")"
   ]
  },
  {
   "cell_type": "markdown",
   "metadata": {},
   "source": [
    "Notice that two things happened when you ran the code cell:\n",
    "1. The output of the code suddenly appeared right below the code:\n",
    "`[1] \"Hello World\"`\n",
    "2. The text to the left of the code cell changed from `In [ ]` to `In [1]` \n",
    "\n",
    "<div class=\"alert alert-block alert-warning\">\n",
    "    <b>QUESTION:</b> What do you think the <b>[1]</b> means where it says <b>In [1]</b> to the left of the code cell? See if you can figure it out. Try running the cell again. How does it change? What does it mean?\n",
    "</div>\n"
   ]
  },
  {
   "cell_type": "markdown",
   "metadata": {},
   "source": [
    "[write your answer in this *markdown* cell]"
   ]
  }
 ],
 "metadata": {
  "kernelspec": {
   "display_name": "R",
   "language": "R",
   "name": "ir"
  },
  "language_info": {
   "codemirror_mode": "r",
   "file_extension": ".r",
   "mimetype": "text/x-r-source",
   "name": "R",
   "pygments_lexer": "r",
   "version": "3.6.1"
  }
 },
 "nbformat": 4,
 "nbformat_minor": 2
}
